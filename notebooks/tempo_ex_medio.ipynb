{
 "cells": [
  {
   "cell_type": "code",
   "execution_count": 1,
   "metadata": {},
   "outputs": [],
   "source": [
    "import sys\n",
    "import os\n",
    "import time\n",
    "sys.path.append(os.path.abspath(r\"\\Users\\henri\\Documents\\pythonProjcs\\Percolacao_invasiva_2\"))\n",
    "from data_structure.matriz import Matriz_base\n",
    "from data_structure.matriz_binaria import Matriz_bi as MB\n",
    "from data_structure.matriz_fibo import Matriz_fibo as MF\n",
    "from data_structure.matriz_list import Matriz_lis as ML\n",
    "from percolacao_invasiva import Percolacao_invasiva as PI\n",
    "from agoritmos_testes.erro_padrao import Graph"
   ]
  },
  {
   "cell_type": "code",
   "execution_count": 2,
   "metadata": {},
   "outputs": [],
   "source": [
    "# tempo médio de execução <t> para cada tamnho de rede <L> usando lista de prioridade\n",
    "Graph.plot_point(ML,257, 1025, 25)"
   ]
  }
 ],
 "metadata": {
  "kernelspec": {
   "display_name": "percolacao_invasiva",
   "language": "python",
   "name": "python3"
  },
  "language_info": {
   "codemirror_mode": {
    "name": "ipython",
    "version": 3
   },
   "file_extension": ".py",
   "mimetype": "text/x-python",
   "name": "python",
   "nbconvert_exporter": "python",
   "pygments_lexer": "ipython3",
   "version": "3.9.19"
  }
 },
 "nbformat": 4,
 "nbformat_minor": 2
}
