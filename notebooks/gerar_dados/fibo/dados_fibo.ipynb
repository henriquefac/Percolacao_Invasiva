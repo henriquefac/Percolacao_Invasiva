{
 "cells": [
  {
   "cell_type": "code",
   "execution_count": 1,
   "metadata": {},
   "outputs": [
    {
     "ename": "ImportError",
     "evalue": "cannot import name 'Matriz_lis' from 'modelos.matriz' (C:\\Users\\henri\\Documents\\pythonProjcs\\percolacao_invaisva_tif\\modelos\\matriz.py)",
     "output_type": "error",
     "traceback": [
      "\u001b[1;31m---------------------------------------------------------------------------\u001b[0m",
      "\u001b[1;31mImportError\u001b[0m                               Traceback (most recent call last)",
      "Cell \u001b[1;32mIn[1], line 10\u001b[0m\n\u001b[0;32m      8\u001b[0m \u001b[38;5;28;01mfrom\u001b[39;00m \u001b[38;5;21;01mdata_structure\u001b[39;00m\u001b[38;5;21;01m.\u001b[39;00m\u001b[38;5;21;01mmatriz_list\u001b[39;00m \u001b[38;5;28;01mimport\u001b[39;00m Matriz_lis \u001b[38;5;28;01mas\u001b[39;00m ML\n\u001b[0;32m      9\u001b[0m \u001b[38;5;28;01mfrom\u001b[39;00m \u001b[38;5;21;01mpercolacao_invasiva\u001b[39;00m \u001b[38;5;28;01mimport\u001b[39;00m Percolacao_invasiva \u001b[38;5;28;01mas\u001b[39;00m PI\n\u001b[1;32m---> 10\u001b[0m \u001b[38;5;28;01mfrom\u001b[39;00m \u001b[38;5;21;01magoritmos_testes\u001b[39;00m\u001b[38;5;21;01m.\u001b[39;00m\u001b[38;5;21;01merro_padrao\u001b[39;00m \u001b[38;5;28;01mimport\u001b[39;00m Graph\n",
      "File \u001b[1;32mc:\\Users\\henri\\Documents\\pythonProjcs\\Percolacao_invasiva_2\\agoritmos_testes\\erro_padrao.py:7\u001b[0m\n\u001b[0;32m      5\u001b[0m \u001b[38;5;28;01mimport\u001b[39;00m \u001b[38;5;21;01mtime\u001b[39;00m\n\u001b[0;32m      6\u001b[0m sys\u001b[38;5;241m.\u001b[39mpath\u001b[38;5;241m.\u001b[39mappend(os\u001b[38;5;241m.\u001b[39mpath\u001b[38;5;241m.\u001b[39mabspath(\u001b[38;5;124mr\u001b[39m\u001b[38;5;124m\"\u001b[39m\u001b[38;5;124mC:\u001b[39m\u001b[38;5;124m\\\u001b[39m\u001b[38;5;124mUsers\u001b[39m\u001b[38;5;124m\\\u001b[39m\u001b[38;5;124mhenri\u001b[39m\u001b[38;5;124m\\\u001b[39m\u001b[38;5;124mDocuments\u001b[39m\u001b[38;5;124m\\\u001b[39m\u001b[38;5;124mpythonProjcs\u001b[39m\u001b[38;5;124m\\\u001b[39m\u001b[38;5;124mpercolacao_invaisva_tif\u001b[39m\u001b[38;5;124m\"\u001b[39m))\n\u001b[1;32m----> 7\u001b[0m \u001b[38;5;28;01mfrom\u001b[39;00m \u001b[38;5;21;01mmodelos\u001b[39;00m\u001b[38;5;21;01m.\u001b[39;00m\u001b[38;5;21;01mmatriz\u001b[39;00m \u001b[38;5;28;01mimport\u001b[39;00m Matriz_base, Matriz_lis, Matriz_fibo, Matriz_bi\n\u001b[0;32m      8\u001b[0m \u001b[38;5;28;01mfrom\u001b[39;00m \u001b[38;5;21;01mpercolacao\u001b[39;00m \u001b[38;5;28;01mimport\u001b[39;00m Percolacao_invasiva \u001b[38;5;28;01mas\u001b[39;00m PI\n\u001b[0;32m     10\u001b[0m \u001b[38;5;28;01mclass\u001b[39;00m \u001b[38;5;21;01mTime_table\u001b[39;00m():\n",
      "\u001b[1;31mImportError\u001b[0m: cannot import name 'Matriz_lis' from 'modelos.matriz' (C:\\Users\\henri\\Documents\\pythonProjcs\\percolacao_invaisva_tif\\modelos\\matriz.py)"
     ]
    }
   ],
   "source": [
    "import sys\n",
    "import os\n",
    "import time\n",
    "sys.path.append(os.path.abspath(r\"\\Users\\henri\\Documents\\pythonProjcs\\Percolacao_invasiva_2\"))\n",
    "from data_structure.matriz import Matriz_base\n",
    "from data_structure.matriz_binaria import Matriz_bi as MB\n",
    "from data_structure.matriz_fibo import Matriz_fibo as MF\n",
    "from data_structure.matriz_list import Matriz_lis as ML\n",
    "from percolacao_invasiva import Percolacao_invasiva as PI\n"
   ]
  },
  {
   "cell_type": "code",
   "execution_count": null,
   "metadata": {},
   "outputs": [],
   "source": [
    "# dados para fibo"
   ]
  }
 ],
 "metadata": {
  "kernelspec": {
   "display_name": "percolacao_invasiva",
   "language": "python",
   "name": "python3"
  },
  "language_info": {
   "codemirror_mode": {
    "name": "ipython",
    "version": 3
   },
   "file_extension": ".py",
   "mimetype": "text/x-python",
   "name": "python",
   "nbconvert_exporter": "python",
   "pygments_lexer": "ipython3",
   "version": "3.9.19"
  }
 },
 "nbformat": 4,
 "nbformat_minor": 2
}
